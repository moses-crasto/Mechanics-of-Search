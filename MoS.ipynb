{
  "nbformat": 4,
  "nbformat_minor": 0,
  "metadata": {
    "colab": {
      "provenance": [],
      "collapsed_sections": [
        "zDBw0oFR2YJ4",
        "6E4Ps02WqRrN"
      ],
      "authorship_tag": "ABX9TyPoDfaEJYibuV5zggohPgL1",
      "include_colab_link": true
    },
    "kernelspec": {
      "name": "python3",
      "display_name": "Python 3"
    },
    "language_info": {
      "name": "python"
    }
  },
  "cells": [
    {
      "cell_type": "markdown",
      "metadata": {
        "id": "view-in-github",
        "colab_type": "text"
      },
      "source": [
        "<a href=\"https://colab.research.google.com/github/moses-crasto/Mechanics-of-Search/blob/main/MoS.ipynb\" target=\"_parent\"><img src=\"https://colab.research.google.com/assets/colab-badge.svg\" alt=\"Open In Colab\"/></a>"
      ]
    },
    {
      "cell_type": "markdown",
      "source": [
        "# **Evaluate**"
      ],
      "metadata": {
        "id": "RmR7gINN2uBK"
      }
    },
    {
      "cell_type": "code",
      "source": [
        "!git clone https://github.com/usnistgov/trec_eval.git\n",
        "!make -C trec_eval"
      ],
      "metadata": {
        "id": "7GEqK-o5zn_s",
        "colab": {
          "base_uri": "https://localhost:8080/"
        },
        "outputId": "bc9ba42a-05a5-435f-95b8-ce5000b21f48"
      },
      "execution_count": null,
      "outputs": [
        {
          "output_type": "stream",
          "name": "stdout",
          "text": [
            "fatal: destination path 'trec_eval' already exists and is not an empty directory.\n",
            "make: Entering directory '/content/trec_eval'\n",
            "make: 'trec_eval' is up to date.\n",
            "make: Leaving directory '/content/trec_eval'\n"
          ]
        }
      ]
    },
    {
      "cell_type": "code",
      "source": [
        "import subprocess\n",
        "\n",
        "# Define paths to relevance judgment file and search engine output files\n",
        "path_to_cranfield_qrel = \"/content/cranqrel.trec.txt\"\n",
        "path_to_engines = {\n",
        "    \"VSM\": \"/content/vsm_output.txt\",\n",
        "    \"BM25\": \"/content/bm25_output.txt\",\n",
        "    \"QL\": \"/content/query_likelihood_output.txt\"\n",
        "    }\n",
        "\n",
        "# Define evaluation measures\n",
        "evaluation_measures = [\"map\", \"P.5\", \"ndcg\"]\n",
        "\n",
        "# Evaluate each search engine\n",
        "evaluation_results = {}\n",
        "for engine_name, output_file in path_to_engines.items():\n",
        "    print(f\"Evaluation results for {engine_name}:\")\n",
        "    !./trec_eval/trec_eval -m map -m P.5 -m ndcg {path_to_cranfield_qrel} {output_file}"
      ],
      "metadata": {
        "colab": {
          "base_uri": "https://localhost:8080/"
        },
        "id": "9m9DPeGKCz4s",
        "outputId": "36bffb79-4363-462a-905d-88d8e01dc008"
      },
      "execution_count": null,
      "outputs": [
        {
          "output_type": "stream",
          "name": "stdout",
          "text": [
            "Evaluation results for VSM:\n",
            "map                   \tall\t0.2856\n",
            "P_5                   \tall\t0.3102\n",
            "ndcg                  \tall\t0.4920\n",
            "Evaluation results for BM25:\n",
            "map                   \tall\t0.2726\n",
            "P_5                   \tall\t0.2862\n",
            "ndcg                  \tall\t0.5322\n",
            "Evaluation results for QL:\n",
            "map                   \tall\t0.1906\n",
            "P_5                   \tall\t0.2089\n",
            "ndcg                  \tall\t0.3794\n"
          ]
        }
      ]
    },
    {
      "cell_type": "markdown",
      "source": [
        "# **VSM O**/P"
      ],
      "metadata": {
        "id": "8NBhrGc81d0L"
      }
    },
    {
      "cell_type": "code",
      "source": [
        "from sklearn.feature_extraction.text import TfidfVectorizer\n",
        "from sklearn.metrics.pairwise import cosine_similarity\n",
        "import pandas as pd\n",
        "import xml.etree.ElementTree as ET\n",
        "from nltk.tokenize import word_tokenize\n",
        "from nltk.corpus import stopwords\n",
        "from nltk.stem import PorterStemmer\n",
        "import nltk\n",
        "\n",
        "# Download NLTK resources\n",
        "nltk.download('punkt')\n",
        "nltk.download('stopwords')\n",
        "\n",
        "# Define a function to parse the XML file\n",
        "def parse_xml_file(xml_file):\n",
        "    docs = []\n",
        "    tree = ET.parse(xml_file)\n",
        "    root = tree.getroot()\n",
        "    for doc in root.findall('doc'):\n",
        "        doc_dict = {}\n",
        "        doc_dict['title'] = doc.find('title').text.strip().lower() if doc.find('title') is not None and doc.find('title').text is not None else ''\n",
        "        doc_dict['author'] = doc.find('author').text.strip().lower() if doc.find('author') is not None and doc.find('author').text is not None else ''\n",
        "        doc_dict['bib'] = doc.find('bib').text.strip().lower() if doc.find('bib') is not None and doc.find('bib').text is not None else ''\n",
        "        doc_dict['text'] = doc.find('text').text.strip().lower() if doc.find('text') is not None and doc.find('text').text is not None else ''\n",
        "        docs.append(doc_dict)\n",
        "    return docs\n",
        "\n",
        "# Load XML data into a DataFrame\n",
        "xml_file = '/content/cran.all.1400.xml'\n",
        "doc_elements = parse_xml_file(xml_file)\n",
        "df = pd.DataFrame(doc_elements)\n",
        "\n",
        "# Parse XML file to extract queries\n",
        "def parse_query_xml(xml_file):\n",
        "    queries = {}\n",
        "    tree = ET.parse(xml_file)\n",
        "    root = tree.getroot()\n",
        "    queries_list = root.findall('top')\n",
        "\n",
        "    for index, query in enumerate(queries_list):\n",
        "        query_text = query.find('title').text.strip()\n",
        "        queries[index + 1] = query_text\n",
        "\n",
        "    return queries\n",
        "\n",
        "# Sample query\n",
        "queries = parse_query_xml('cran.qry.xml')\n",
        "\n",
        "# Step 1: Tokenize, preprocess, stem, and remove stop words from the text\n",
        "stemmer = PorterStemmer()\n",
        "stop_words = set(stopwords.words('english'))\n",
        "\n",
        "def preprocess_text(title, author, bib, text):\n",
        "    all_text = ' '.join([title, author, bib, text])\n",
        "    tokens = word_tokenize(all_text.lower())\n",
        "    stemmed_tokens = [stemmer.stem(token) for token in tokens if token not in stop_words]\n",
        "    return ' '.join(stemmed_tokens)\n",
        "\n",
        "# Preprocess documents\n",
        "df['preprocessed_text'] = df.apply(lambda row: preprocess_text(row['title'], row['author'], row['bib'], row['text']), axis=1)\n",
        "\n",
        "# Preprocess queries\n",
        "preprocessed_queries = {query_id: preprocess_text(query_text, '', '', '') for query_id, query_text in queries.items()}\n",
        "\n",
        "# Adjust TF-IDF vectorizer parameters for better performance\n",
        "tfidf_vectorizer = TfidfVectorizer(max_df=0.7, min_df=0.001, max_features=5000, ngram_range=(1, 2))\n",
        "\n",
        "# Fit TF-IDF vectorizer on preprocessed documents\n",
        "tfidf_matrix = tfidf_vectorizer.fit_transform(df['preprocessed_text'])\n",
        "\n",
        "output_file = \"vsm_output.txt\"\n",
        "with open(output_file, 'w') as f:\n",
        "    for query_id, query_text in preprocessed_queries.items():\n",
        "        # Transform the preprocessed query using the trained TF-IDF vectorizer\n",
        "        query_vector = tfidf_vectorizer.transform([query_text])\n",
        "\n",
        "        # Compute cosine similarity between the query vector and all document vectors\n",
        "        cosine_similarities = cosine_similarity(query_vector, tfidf_matrix)\n",
        "\n",
        "        # Get the indices of documents sorted by similarity score\n",
        "        sorted_indices = cosine_similarities.argsort()[0][::-1]\n",
        "\n",
        "        # Write the top 100 results to the output file\n",
        "        for rank, idx in enumerate(sorted_indices[:100], start=1):\n",
        "            docno = idx + 1  # Assuming docno starts from 1\n",
        "            similarity = cosine_similarities[0][idx]\n",
        "            f.write(f\"{query_id} 0 {docno} {rank} {similarity} vsm\\n\")\n"
      ],
      "metadata": {
        "id": "Zp_dlOkFwNB0",
        "colab": {
          "base_uri": "https://localhost:8080/"
        },
        "outputId": "a6b8dff9-1164-471d-93e0-4b53212e173d"
      },
      "execution_count": null,
      "outputs": [
        {
          "output_type": "stream",
          "name": "stderr",
          "text": [
            "[nltk_data] Downloading package punkt to /root/nltk_data...\n",
            "[nltk_data]   Package punkt is already up-to-date!\n",
            "[nltk_data] Downloading package stopwords to /root/nltk_data...\n",
            "[nltk_data]   Package stopwords is already up-to-date!\n"
          ]
        }
      ]
    },
    {
      "cell_type": "markdown",
      "source": [
        "# **BM25** O/P"
      ],
      "metadata": {
        "id": "zDBw0oFR2YJ4"
      }
    },
    {
      "cell_type": "code",
      "source": [
        "import math\n",
        "from collections import Counter\n",
        "import pandas as pd\n",
        "import xml.etree.ElementTree as ET\n",
        "from nltk.tokenize import word_tokenize\n",
        "from nltk.corpus import stopwords\n",
        "from nltk.stem import PorterStemmer\n",
        "import nltk\n",
        "\n",
        "# Download NLTK resources\n",
        "nltk.download('punkt')\n",
        "nltk.download('stopwords')\n",
        "\n",
        "# Load XML data into a DataFrame\n",
        "xml_file = '/content/cran.all.1400.xml'\n",
        "tree = ET.parse(xml_file)\n",
        "root = tree.getroot()\n",
        "\n",
        "# Preprocess documents\n",
        "stop_words = set(stopwords.words('english'))\n",
        "stemmer = PorterStemmer()\n",
        "preprocessed_documents = []\n",
        "all_doc_tokens = []  # Store all document tokens for IDF calculation\n",
        "for doc in root.findall('doc'):\n",
        "    title = doc.find('title').text.strip().lower() if doc.find('title') is not None and doc.find('title').text is not None else ''\n",
        "    author = doc.find('author').text.strip().lower() if doc.find('author') is not None and doc.find('author').text is not None else ''\n",
        "    bib = doc.find('bib').text.strip().lower() if doc.find('bib') is not None and doc.find('bib').text is not None else ''\n",
        "    text = doc.find('text').text.strip().lower() if doc.find('text') is not None and doc.find('text').text is not None else ''\n",
        "\n",
        "    # Tokenize, stem, and remove stop words for title, author, bib, and text\n",
        "    title_tokens = [stemmer.stem(token) for token in word_tokenize(title) if token not in stop_words]\n",
        "    author_tokens = [stemmer.stem(token) for token in word_tokenize(author) if token not in stop_words]\n",
        "    bib_tokens = [stemmer.stem(token) for token in word_tokenize(bib) if token not in stop_words]\n",
        "    text_tokens = [stemmer.stem(token) for token in word_tokenize(text) if token not in stop_words]\n",
        "\n",
        "    # Combine tokens for title, author, bib, and text into a single list\n",
        "    doc_tokens = title_tokens + author_tokens + bib_tokens + text_tokens\n",
        "    preprocessed_documents.append(doc_tokens)\n",
        "    all_doc_tokens.extend(set(doc_tokens))  # Use set for faster lookup and remove duplicates\n",
        "\n",
        "# Calculate IDF for all terms\n",
        "term_counts = Counter(all_doc_tokens)\n",
        "document_count = len(preprocessed_documents)\n",
        "idf_values = {term: math.log((document_count - term_counts[term] + 0.5) / (term_counts[term] + 0.5) + 1) for term in term_counts}\n",
        "\n",
        "# Define function to preprocess query\n",
        "def preprocess_query(query):\n",
        "    query_tokens = word_tokenize(query.lower())\n",
        "    filtered_query_tokens = [word for word in query_tokens if word not in stop_words]\n",
        "    return [stemmer.stem(word) for word in filtered_query_tokens]\n",
        "\n",
        "# Function to calculate BM25 score for a document\n",
        "def calculate_bm25_score(document, preprocessed_query, document_length, avg_document_length, k1, b):\n",
        "    score = 0.0\n",
        "    doc_term_freq = Counter(document)\n",
        "    for term in preprocessed_query:\n",
        "        if term not in document:\n",
        "            continue\n",
        "        term_frequency = doc_term_freq[term]\n",
        "        numerator = term_frequency * (k1 + 1)\n",
        "        denominator = term_frequency + k1 * (1 - b + b * (document_length / avg_document_length))\n",
        "        score += idf_values[term] * (numerator / denominator)\n",
        "    return score\n",
        "\n",
        "# Read queries from cran.qry.xml\n",
        "query_file = '/content/cran.qry.xml'\n",
        "queries_df = pd.read_xml(query_file)\n",
        "queries_df.index += 1  # Increment index by 1 to start from 1\n",
        "queries = list(zip(queries_df.index, queries_df['title']))\n",
        "\n",
        "# BM25 parameters\n",
        "avg_document_length = sum(len(doc) for doc in preprocessed_documents) / document_count\n",
        "k1 = 2.5\n",
        "b = 0.75\n",
        "\n",
        "# Write results to file\n",
        "with open(\"bm25_output.txt\", \"w\") as output_file:\n",
        "    for query_id, query_text in queries:\n",
        "        preprocessed_query = preprocess_query(query_text)\n",
        "        scores = []\n",
        "        for i, document in enumerate(preprocessed_documents, start=1):\n",
        "            score = calculate_bm25_score(document, preprocessed_query, len(document), avg_document_length, k1, b)\n",
        "            scores.append((i, score))\n",
        "        ranked_documents = sorted(scores, key=lambda x: x[1], reverse=True)\n",
        "        for rank, (doc_id, score) in enumerate(ranked_documents, start=1):\n",
        "            output_file.write(f\"{query_id} 0 {doc_id} {rank} {score} bm25\\n\")\n"
      ],
      "metadata": {
        "id": "V40gEndU1pWj",
        "colab": {
          "base_uri": "https://localhost:8080/"
        },
        "outputId": "a0358d1a-fa37-4564-b4ea-f2dbd2d7e048"
      },
      "execution_count": null,
      "outputs": [
        {
          "output_type": "stream",
          "name": "stderr",
          "text": [
            "[nltk_data] Downloading package punkt to /root/nltk_data...\n",
            "[nltk_data]   Package punkt is already up-to-date!\n",
            "[nltk_data] Downloading package stopwords to /root/nltk_data...\n",
            "[nltk_data]   Package stopwords is already up-to-date!\n"
          ]
        }
      ]
    },
    {
      "cell_type": "markdown",
      "source": [
        "# **QL** O/P"
      ],
      "metadata": {
        "id": "6E4Ps02WqRrN"
      }
    },
    {
      "cell_type": "code",
      "source": [
        "import math\n",
        "from collections import Counter\n",
        "import pandas as pd\n",
        "from nltk.tokenize import word_tokenize\n",
        "from nltk.corpus import stopwords\n",
        "from nltk.stem import PorterStemmer\n",
        "import nltk\n",
        "\n",
        "# Download NLTK resources\n",
        "nltk.download('punkt')\n",
        "nltk.download('stopwords')\n",
        "\n",
        "# Load XML data into a DataFrame\n",
        "df_docs = pd.read_xml('cran.all.1400.xml')\n",
        "\n",
        "# Preprocess text: tokenize, stem, remove stop words\n",
        "def preprocess_text(title, author, bib, text):\n",
        "    stemmer = PorterStemmer()\n",
        "    stop_words = set(stopwords.words('english'))\n",
        "    title_str = str(title) if pd.notnull(title) else ''\n",
        "    author_str = str(author) if pd.notnull(author) else ''\n",
        "    bib_str = str(bib) if pd.notnull(bib) else ''\n",
        "    text_str = str(text) if pd.notnull(text) else ''\n",
        "    all_text = ' '.join([title_str, author_str, bib_str, text_str])\n",
        "    tokens = word_tokenize(all_text.lower())\n",
        "    stemmed_tokens = [stemmer.stem(token) for token in tokens if token not in stop_words]\n",
        "    return ' '.join(stemmed_tokens)\n",
        "\n",
        "# Preprocess documents\n",
        "preprocessed_documents = [preprocess_text(row['title'], row['author'], row['bib'], row['text']) for _, row in df_docs.iterrows()]\n",
        "\n",
        "# Preprocess queries\n",
        "df_queries = pd.read_xml('cran.qry.xml')\n",
        "preprocessed_queries = {query_id: preprocess_text('', '', '', query_text) for query_id, query_text in zip(df_queries.index, df_queries['title'])}\n",
        "\n",
        "# Compute document language models (term frequencies) in batch\n",
        "doc_language_models = []\n",
        "for doc in preprocessed_documents:\n",
        "    term_freqs = Counter(doc.split())\n",
        "    total_terms = sum(term_freqs.values())\n",
        "    language_model = {term: freq / total_terms for term, freq in term_freqs.items()}\n",
        "    doc_language_models.append(language_model)\n",
        "\n",
        "# Advanced Smoothing Techniques\n",
        "def calculate_smoothed_likelihood_score(query_language_model, doc_language_models, smoothing_param):\n",
        "    likelihood_scores = []\n",
        "    for doc_language_model in doc_language_models:\n",
        "        likelihood_score = 0.0\n",
        "        for term, query_term_prob in query_language_model.items():\n",
        "            doc_term_prob = doc_language_model.get(term, 0)  # Get term probability from document's language model\n",
        "            smoothed_term_prob = (1 - smoothing_param) * doc_term_prob + smoothing_param * query_term_prob\n",
        "            likelihood_score += query_term_prob * math.log(smoothed_term_prob + 1e-10)  # Smoothing for unseen terms\n",
        "        likelihood_scores.append(likelihood_score)\n",
        "    return likelihood_scores\n",
        "\n",
        "# Generate output file\n",
        "output_file = \"query_likelihood_output.txt\"\n",
        "with open(output_file, 'w') as f:\n",
        "    for query_id, query_text in preprocessed_queries.items():\n",
        "        query_term_freqs = Counter(query_text.split())\n",
        "        query_total_terms = sum(query_term_freqs.values())\n",
        "        query_language_model = {term: freq / query_total_terms for term, freq in query_term_freqs.items()}\n",
        "        # Adjust smoothing parameter for better performance\n",
        "        smoothing_param = 0.1  # Experiment with different values\n",
        "        query_likelihood_scores = calculate_smoothed_likelihood_score(query_language_model, doc_language_models, smoothing_param)\n",
        "        results = sorted(enumerate(query_likelihood_scores, start=1), key=lambda x: x[1], reverse=True)\n",
        "        for rank, (doc_id, score) in enumerate(results[:100], start=1):\n",
        "            f.write(f\"{query_id} 0 {doc_id} {rank} {score:.4f} QL\\n\")\n"
      ],
      "metadata": {
        "id": "aqCqMMstqVwS",
        "colab": {
          "base_uri": "https://localhost:8080/"
        },
        "outputId": "9938db86-4868-4fec-f404-15c27d9b6cff"
      },
      "execution_count": null,
      "outputs": [
        {
          "output_type": "stream",
          "name": "stderr",
          "text": [
            "[nltk_data] Downloading package punkt to /root/nltk_data...\n",
            "[nltk_data]   Package punkt is already up-to-date!\n",
            "[nltk_data] Downloading package stopwords to /root/nltk_data...\n",
            "[nltk_data]   Package stopwords is already up-to-date!\n"
          ]
        }
      ]
    }
  ]
}